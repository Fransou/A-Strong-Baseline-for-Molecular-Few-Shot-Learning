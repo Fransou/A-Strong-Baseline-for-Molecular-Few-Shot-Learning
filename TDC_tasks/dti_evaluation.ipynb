{
 "cells": [
  {
   "cell_type": "code",
   "execution_count": null,
   "metadata": {
    "collapsed": false,
    "jupyter": {
     "outputs_hidden": false
    }
   },
   "outputs": [],
   "source": [
    "import os\n",
    "import sys\n",
    "import numpy as np\n",
    "import pandas as pd\n",
    "import matplotlib.pyplot as plt\n",
    "\n",
    "\n",
    "\n",
    "FS_MOL_CHECKOUT_PATH = \"../\"\n",
    "\n",
    "os.chdir(FS_MOL_CHECKOUT_PATH)\n",
    "sys.path.insert(0, FS_MOL_CHECKOUT_PATH)\n",
    "PAPER_FIGDIR = \"../paper/Paper/fig\"\n",
    "from utils_DTI import get_dataset_from_file, bounds_n_mols_task_name\n",
    "from notebook_utils import get_dataset_target_stats, get_all_datasets_stats, get_kinases_stats\n",
    "import seaborn as sns\n",
    "%matplotlib inline\n",
    "\n",
    "TASK_NAMES = [\"DAVIS\", \"BindingDB_Kd\", \"BindingDB_Ki\", \"BindingDB_IC50\", \"KIBA\"]"
   ]
  },
  {
   "cell_type": "code",
   "execution_count": null,
   "outputs": [],
   "source": [
    "full_df = get_all_datasets_stats(TASK_NAMES)\n",
    "df_target = get_dataset_target_stats(TASK_NAMES)\n",
    "sns.set_theme(style=\"white\")"
   ],
   "metadata": {
    "collapsed": false
   }
  },
  {
   "cell_type": "code",
   "execution_count": null,
   "outputs": [],
   "source": [
    "sns.set_style(\"white\")\n",
    "\n",
    "full_df = get_all_datasets_stats(TASK_NAMES)\n",
    "df_target = get_dataset_target_stats(TASK_NAMES)\n",
    "\n",
    "fig, axes = plt.subplots(1, 2, figsize=(11, 4))\n",
    "for task_name in TASK_NAMES:\n",
    "    sns.kdeplot(\n",
    "        df_target[df_target.task_name == task_name],\n",
    "        x=\"Y_bin\",\n",
    "        label=task_name,\n",
    "        common_norm=False,\n",
    "        ax=axes[0],\n",
    "        clip = (0,0.6),\n",
    "    )\n",
    "    axes[0].legend()\n",
    "    axes[0].set_xlabel(\"Distribution of the tasks' positive proportion\\n in each dataset\")\n",
    "    axes[0].set_xlim(0, 0.6)\n",
    "\n",
    "    axes[1].set_xlabel(\"pXC50 threshold\")\n",
    "    sns.histplot(\n",
    "        df_target[df_target.task_name == task_name],\n",
    "        x=\"threshold\",\n",
    "        label=task_name,\n",
    "        common_norm=False,\n",
    "        ax=axes[1],\n",
    "        stat=\"proportion\",\n",
    "        cumulative=True,\n",
    "        element=\"poly\",\n",
    "        alpha=0.05,\n",
    "        fill=True,\n",
    "        binrange=(-11,-4)\n",
    "    )\n",
    "    sns.histplot(\n",
    "        df_target[df_target.task_name == task_name],\n",
    "        x=\"threshold\",\n",
    "        label=task_name,\n",
    "        common_norm=False,\n",
    "        ax=axes[1],\n",
    "        stat=\"proportion\",\n",
    "        cumulative=True,\n",
    "        element=\"poly\",\n",
    "        alpha=1,\n",
    "        fill=False,\n",
    "        binrange=(-11,-4),\n",
    "        legend=False,\n",
    "        hue_order=[\"DAVIS\", \"BindingDB_Kd\", \"BindingDB_IC50\", \"BindingDB_Ki\", \"KIBA\"][::-1]\n",
    "    )\n",
    "    axes[1].set_ylim(0, 1)\n",
    "    axes[1].set_xlim(-10,-4.5)\n",
    "    axes[1].set_xlabel(\"Threshold cumulative distribution (pXC50)\\n in each dataset\")\n",
    "#axes[1].grid()\n",
    "#axes[0].grid()\n",
    "axes[0].legend(bbox_to_anchor=(0.15, -0.27), loc=2, borderaxespad=0., ncol=6,)\n",
    "fig.savefig(PAPER_FIGDIR + \"/DTI_split.pdf\", dpi=fig.dpi, bbox_inches = \"tight\")"
   ],
   "metadata": {
    "collapsed": false
   }
  },
  {
   "cell_type": "code",
   "execution_count": null,
   "outputs": [],
   "source": [
    "df_target.groupby(\"task_name\").Y_bin.mean()"
   ],
   "metadata": {
    "collapsed": false
   }
  },
  {
   "cell_type": "code",
   "execution_count": null,
   "outputs": [],
   "source": [
    "iskinase = get_kinases_stats(TASK_NAMES)\n",
    "full_df[[\"task_name\", \"Target_ID\"]].drop_duplicates().join(iskinase.set_index([\"Target_ID\", \"task_name\"]), on=[\"Target_ID\", \"task_name\"]).groupby([\"task_name\",]).iskinase.agg([\"mean\", \"sum\", \"count\"])"
   ],
   "metadata": {
    "collapsed": false
   }
  },
  {
   "cell_type": "code",
   "execution_count": null,
   "outputs": [],
   "source": [
    "task_avg_pos = full_df.groupby([\"task_name\"]).Y_bin.mean().reset_index()\n"
   ],
   "metadata": {
    "collapsed": false
   }
  },
  {
   "cell_type": "code",
   "execution_count": null,
   "metadata": {},
   "outputs": [],
   "source": [
    "import pandas as pd\n",
    "\n",
    "import torch\n",
    "import matplotlib.pyplot as plt\n",
    "import seaborn as sns\n",
    "\n",
    "import numpy as np\n",
    "\n",
    "X_ORDER = [\"adkt\",\"clamp\", \"q-probe\",\"l-probe\", \"protonet\", \"maml\",\"simsearch\"]\n",
    "hue_order = [\n",
    "    \"clamp\",\n",
    "    \"l-probe\",\n",
    "    \"q-probe\",\n",
    "    \"adkt\",\n",
    "    \"protonet\",\n",
    "    \"simsearch\",\n",
    "]\n",
    "cmap = {\n",
    "    \"simsearch\": \"dimgray\",\n",
    "    \"adkt\": \"mediumorchid\",\n",
    "    \"protonet\":\"dodgerblue\",\n",
    "    \"l-probe\": \"gold\",\n",
    "    \"q-probe\": \"red\",\n",
    "    \"maml\": \"indigo\",\n",
    "    \"clamp\":\"yellowgreen\"\n",
    "}"
   ]
  },
  {
   "cell_type": "code",
   "execution_count": null,
   "metadata": {
    "collapsed": false,
    "jupyter": {
     "outputs_hidden": false
    }
   },
   "outputs": [],
   "source": [
    "%matplotlib inline\n",
    "task_avg_pos"
   ]
  },
  {
   "cell_type": "code",
   "execution_count": null,
   "metadata": {
    "collapsed": false,
    "jupyter": {
     "outputs_hidden": false
    }
   },
   "outputs": [],
   "source": [
    "model_names = [\"adkt\", \"simplebsl\", \"linear_probe\", \"protonet\", \"simsearch\", \"clamp\"]\n",
    "results_df = pd.DataFrame()\n",
    "\n",
    "for model_name in model_names:\n",
    "    for task_name in TASK_NAMES:\n",
    "        path = f\"TDC_tasks/results/DTI/{model_name}_{task_name}_results.csv\"\n",
    "        if os.path.exists(path):\n",
    "            model_results_df = pd.read_csv(path, index_col=0)\n",
    "            model_results_df[\"model\"] = model_name\n",
    "            model_results_df[\"task\"] = task_name\n",
    "            results_df = pd.concat([results_df, model_results_df])\n",
    "results_df = results_df.join(task_avg_pos.set_index(\"task_name\"), on=\"task\")\n",
    "results_df.model = results_df.model.apply(lambda x: x.replace(\"simplebsl\", \"q-probe\").replace(\"linear_probe\",\"l-probe\"))"
   ]
  },
  {
   "cell_type": "code",
   "execution_count": null,
   "metadata": {
    "collapsed": false,
    "jupyter": {
     "outputs_hidden": false
    }
   },
   "outputs": [],
   "source": [
    "results_df.model.unique()"
   ]
  },
  {
   "cell_type": "code",
   "execution_count": null,
   "metadata": {
    "collapsed": false,
    "jupyter": {
     "outputs_hidden": false
    }
   },
   "outputs": [],
   "source": [
    "run_df = results_df.groupby([col for col in results_df.columns if not (col.startswith(\"au\") or col ==\"runtime\")]).mean().reset_index()\n",
    "\n",
    "for metric in [\"auroc\", \"auroc_neg\", \"auprc\", \"auprc_neg\"]:\n",
    "    if \"neg\" not in metric:\n",
    "        run_df[\"delta-{}\".format(metric)] = run_df[metric] - run_df[\"Y_bin\"]\n",
    "    else:\n",
    "        run_df[\"delta-{}\".format(metric)] = run_df[metric] - (1-run_df[\"Y_bin\"])"
   ]
  },
  {
   "cell_type": "code",
   "execution_count": null,
   "metadata": {
    "collapsed": false,
    "jupyter": {
     "outputs_hidden": false
    }
   },
   "outputs": [],
   "source": [
    "run_df.model = run_df.model.apply(lambda x: x.replace(\"linear_probe\", \"l-probe\").replace(\"simplebsl\", \"q-probe\").replace(\"clamp\", \"clamp\"))"
   ]
  },
  {
   "cell_type": "code",
   "execution_count": null,
   "metadata": {},
   "outputs": [],
   "source": [
    "#same with barplots\n",
    "%matplotlib inline\n",
    "x_order = [\"KIBA\", \"BindingDB_Kd\", \"DAVIS\"]\n",
    "hue_order = [\n",
    "    \"clamp\",\n",
    "    \"l-probe\",\n",
    "    \"q-probe\",\n",
    "    \"adkt\",\n",
    "    \"protonet\",\n",
    "    \"simsearch\",\n",
    "    #\"maml\",\n",
    "    #\"multitask\",\n",
    "]\n",
    "\n",
    "metric = \"delta-auprc\"\n",
    "fig, ax= plt.subplots(1, 1, figsize=(5, 2.2))\n",
    "\n",
    "sns.set_theme(style=\"whitegrid\")\n",
    "sns.barplot(\n",
    "    x=\"task_name\",\n",
    "    y=metric,\n",
    "    hue=\"model\",\n",
    "    data=run_df,\n",
    "    ax=ax,\n",
    "    saturation=0.7,\n",
    "    capsize=.4,\n",
    "    palette=cmap,\n",
    "    hue_order=hue_order,\n",
    "    order=x_order,\n",
    "    err_kws={\"color\": \".5\", \"linewidth\": 1.5, \"alpha\":0.5},\n",
    ")\n",
    "hfont = {'fontname':'Helvetica'}\n",
    "ax.set_title(\"Performances on DTI tasks\")\n",
    "ax.annotate('', xy=(.9, 1), xycoords='axes fraction', xytext=(.1, 1),\n",
    "            arrowprops=dict(arrowstyle=\"-|>\", color='lightblue', linewidth=6),)\n",
    "ax.text(-0.3,0.38,\"Prior shift\", c= \"lightslategrey\")\n",
    "ax.legend(loc='lower center')\n",
    "ax.set_xlabel(\"\")\n",
    "ax.set_ylabel(\"$\\Delta AUPRC$\")\n",
    "\n",
    "ax.set_ylim(0.16,)\n",
    "ax.legend(bbox_to_anchor=(-0.05, -0.18), loc=2, borderaxespad=0., ncol=3)\n",
    "\n",
    "\n",
    "\n",
    "fig.savefig(PAPER_FIGDIR + \"/barplot_kn_DTI.pdf\",bbox_inches='tight')\n",
    "plt.show()"
   ]
  },
  {
   "cell_type": "code",
   "execution_count": null,
   "metadata": {
    "collapsed": false,
    "jupyter": {
     "outputs_hidden": false
    }
   },
   "outputs": [],
   "source": [
    "#same with barplots\n",
    "%matplotlib inline\n",
    "x_order = [\"BindingDB_Ki\", \"BindingDB_IC50\"]\n",
    "hue_order = [\n",
    "    \"clamp\",\n",
    "    \"l-probe\",\n",
    "    \"q-probe\",\n",
    "    \"adkt\",\n",
    "    \"protonet\",\n",
    "    \"simsearch\",\n",
    "    #\"maml\",\n",
    "    #\"multitask\",\n",
    "]\n",
    "\n",
    "metric = \"delta-auprc\"\n",
    "fig, ax= plt.subplots(1, 1, figsize=(5, 2))\n",
    "\n",
    "sns.set_theme(style=\"whitegrid\")\n",
    "sns.barplot(\n",
    "    x=\"task_name\",\n",
    "    y=metric,\n",
    "    hue=\"model\",\n",
    "    data=run_df,\n",
    "    ax=ax,\n",
    "    saturation=0.7,\n",
    "    capsize=.4,\n",
    "    palette=cmap,\n",
    "    hue_order=hue_order,\n",
    "    order=x_order,\n",
    "    err_kws={\"color\": \".5\", \"linewidth\": 1.5, \"alpha\":0.5},\n",
    ")\n",
    "\n",
    "ax.set_title(\"Performances on DTI tasks\")\n",
    "ax.legend(loc='lower center')\n",
    "ax.set_xlabel(\"\")\n",
    "ax.set_ylabel(\"$\\Delta AUPRC$\")\n",
    "\n",
    "ax.set_ylim(0.15,)\n",
    "ax.legend(bbox_to_anchor=(-0.1, -0.3), loc=2, borderaxespad=0., ncol=3)\n",
    "\n",
    "fig.savefig(PAPER_FIGDIR + \"/barplot_full_DTI.pdf\",bbox_inches='tight')\n",
    "plt.show()"
   ]
  },
  {
   "cell_type": "code",
   "execution_count": null,
   "metadata": {},
   "outputs": [],
   "source": []
  },
  {
   "cell_type": "code",
   "execution_count": null,
   "metadata": {},
   "outputs": [],
   "source": []
  }
 ],
 "metadata": {
  "kernelspec": {
   "display_name": "Python 3 (ipykernel)",
   "language": "python",
   "name": "python3"
  },
  "language_info": {
   "codemirror_mode": {
    "name": "ipython",
    "version": 3
   },
   "file_extension": ".py",
   "mimetype": "text/x-python",
   "name": "python",
   "nbconvert_exporter": "python",
   "pygments_lexer": "ipython3",
   "version": "3.10.13"
  }
 },
 "nbformat": 4,
 "nbformat_minor": 4
}
