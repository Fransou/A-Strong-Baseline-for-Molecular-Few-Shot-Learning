{
 "cells": [
  {
   "cell_type": "code",
   "execution_count": 1,
   "metadata": {
    "collapsed": false,
    "jupyter": {
     "outputs_hidden": false
    },
    "ExecuteTime": {
     "end_time": "2024-02-01T21:49:36.122207224Z",
     "start_time": "2024-02-01T21:49:34.830671654Z"
    }
   },
   "outputs": [
    {
     "ename": "FileNotFoundError",
     "evalue": "[Errno 2] No such file or directory: 'TDC_tasks/data/DTI/common_tasks.csv'",
     "output_type": "error",
     "traceback": [
      "\u001B[0;31m---------------------------------------------------------------------------\u001B[0m",
      "\u001B[0;31mFileNotFoundError\u001B[0m                         Traceback (most recent call last)",
      "Cell \u001B[0;32mIn[1], line 14\u001B[0m\n\u001B[1;32m     12\u001B[0m sys\u001B[38;5;241m.\u001B[39mpath\u001B[38;5;241m.\u001B[39minsert(\u001B[38;5;241m0\u001B[39m, FS_MOL_CHECKOUT_PATH)\n\u001B[1;32m     13\u001B[0m PAPER_FIGDIR \u001B[38;5;241m=\u001B[39m \u001B[38;5;124m\"\u001B[39m\u001B[38;5;124m../paper/Paper/fig\u001B[39m\u001B[38;5;124m\"\u001B[39m\n\u001B[0;32m---> 14\u001B[0m \u001B[38;5;28;01mfrom\u001B[39;00m \u001B[38;5;21;01mutils_DTI\u001B[39;00m \u001B[38;5;28;01mimport\u001B[39;00m get_dataset_from_file, bounds_n_mols_task_name\n\u001B[1;32m     15\u001B[0m \u001B[38;5;28;01mfrom\u001B[39;00m \u001B[38;5;21;01mnotebook_utils\u001B[39;00m \u001B[38;5;28;01mimport\u001B[39;00m get_dataset_target_stats, get_all_datasets_stats, get_kinases_stats\n\u001B[1;32m     16\u001B[0m \u001B[38;5;28;01mimport\u001B[39;00m \u001B[38;5;21;01mseaborn\u001B[39;00m \u001B[38;5;28;01mas\u001B[39;00m \u001B[38;5;21;01msns\u001B[39;00m\n",
      "File \u001B[0;32m~/anonymized_git/is-meta-learning-necessary/TDC_tasks/utils_DTI.py:38\u001B[0m\n\u001B[1;32m     22\u001B[0m bounds_n_mols_task_name \u001B[38;5;241m=\u001B[39m {\n\u001B[1;32m     23\u001B[0m     \u001B[38;5;124m\"\u001B[39m\u001B[38;5;124mDAVIS\u001B[39m\u001B[38;5;124m\"\u001B[39m: (\u001B[38;5;241m60\u001B[39m, \u001B[38;5;241m5000\u001B[39m),\n\u001B[1;32m     24\u001B[0m     \u001B[38;5;124m\"\u001B[39m\u001B[38;5;124mBindingDB_Kd\u001B[39m\u001B[38;5;124m\"\u001B[39m: (\u001B[38;5;241m60\u001B[39m, \u001B[38;5;241m5000\u001B[39m),\n\u001B[0;32m   (...)\u001B[0m\n\u001B[1;32m     27\u001B[0m     \u001B[38;5;124m\"\u001B[39m\u001B[38;5;124mKIBA\u001B[39m\u001B[38;5;124m\"\u001B[39m: (\u001B[38;5;241m60\u001B[39m, \u001B[38;5;241m5000\u001B[39m),\n\u001B[1;32m     28\u001B[0m }\n\u001B[1;32m     30\u001B[0m thresholds_task_name \u001B[38;5;241m=\u001B[39m {\n\u001B[1;32m     31\u001B[0m     \u001B[38;5;124m\"\u001B[39m\u001B[38;5;124mDAVIS\u001B[39m\u001B[38;5;124m\"\u001B[39m: \u001B[38;5;241m-\u001B[39m\u001B[38;5;241m5.0\u001B[39m,\n\u001B[1;32m     32\u001B[0m     \u001B[38;5;124m\"\u001B[39m\u001B[38;5;124mBindingDB_Kd\u001B[39m\u001B[38;5;124m\"\u001B[39m: \u001B[38;5;241m-\u001B[39m\u001B[38;5;241m5.0\u001B[39m,\n\u001B[0;32m   (...)\u001B[0m\n\u001B[1;32m     35\u001B[0m     \u001B[38;5;124m\"\u001B[39m\u001B[38;5;124mKIBA\u001B[39m\u001B[38;5;124m\"\u001B[39m: \u001B[38;5;241m-\u001B[39m\u001B[38;5;241m5.0\u001B[39m,\n\u001B[1;32m     36\u001B[0m }\n\u001B[0;32m---> 38\u001B[0m df_common_to_fs_mol \u001B[38;5;241m=\u001B[39m \u001B[43mpd\u001B[49m\u001B[38;5;241;43m.\u001B[39;49m\u001B[43mread_csv\u001B[49m\u001B[43m(\u001B[49m\u001B[38;5;124;43m\"\u001B[39;49m\u001B[38;5;124;43mTDC_tasks/data/DTI/common_tasks.csv\u001B[39;49m\u001B[38;5;124;43m\"\u001B[39;49m\u001B[43m)\u001B[49m\n\u001B[1;32m     41\u001B[0m \u001B[38;5;28;01mdef\u001B[39;00m \u001B[38;5;21mget_feature_extractors_from_metadata\u001B[39m(metadata_path, metadata_filename\u001B[38;5;241m=\u001B[39m\u001B[38;5;124m\"\u001B[39m\u001B[38;5;124mmetadata.pkl.gz\u001B[39m\u001B[38;5;124m\"\u001B[39m):\n\u001B[1;32m     42\u001B[0m     metapath \u001B[38;5;241m=\u001B[39m RichPath\u001B[38;5;241m.\u001B[39mcreate(metadata_path)\n",
      "File \u001B[0;32m~/.local/lib/python3.11/site-packages/pandas/io/parsers/readers.py:912\u001B[0m, in \u001B[0;36mread_csv\u001B[0;34m(filepath_or_buffer, sep, delimiter, header, names, index_col, usecols, dtype, engine, converters, true_values, false_values, skipinitialspace, skiprows, skipfooter, nrows, na_values, keep_default_na, na_filter, verbose, skip_blank_lines, parse_dates, infer_datetime_format, keep_date_col, date_parser, date_format, dayfirst, cache_dates, iterator, chunksize, compression, thousands, decimal, lineterminator, quotechar, quoting, doublequote, escapechar, comment, encoding, encoding_errors, dialect, on_bad_lines, delim_whitespace, low_memory, memory_map, float_precision, storage_options, dtype_backend)\u001B[0m\n\u001B[1;32m    899\u001B[0m kwds_defaults \u001B[38;5;241m=\u001B[39m _refine_defaults_read(\n\u001B[1;32m    900\u001B[0m     dialect,\n\u001B[1;32m    901\u001B[0m     delimiter,\n\u001B[0;32m   (...)\u001B[0m\n\u001B[1;32m    908\u001B[0m     dtype_backend\u001B[38;5;241m=\u001B[39mdtype_backend,\n\u001B[1;32m    909\u001B[0m )\n\u001B[1;32m    910\u001B[0m kwds\u001B[38;5;241m.\u001B[39mupdate(kwds_defaults)\n\u001B[0;32m--> 912\u001B[0m \u001B[38;5;28;01mreturn\u001B[39;00m \u001B[43m_read\u001B[49m\u001B[43m(\u001B[49m\u001B[43mfilepath_or_buffer\u001B[49m\u001B[43m,\u001B[49m\u001B[43m \u001B[49m\u001B[43mkwds\u001B[49m\u001B[43m)\u001B[49m\n",
      "File \u001B[0;32m~/.local/lib/python3.11/site-packages/pandas/io/parsers/readers.py:577\u001B[0m, in \u001B[0;36m_read\u001B[0;34m(filepath_or_buffer, kwds)\u001B[0m\n\u001B[1;32m    574\u001B[0m _validate_names(kwds\u001B[38;5;241m.\u001B[39mget(\u001B[38;5;124m\"\u001B[39m\u001B[38;5;124mnames\u001B[39m\u001B[38;5;124m\"\u001B[39m, \u001B[38;5;28;01mNone\u001B[39;00m))\n\u001B[1;32m    576\u001B[0m \u001B[38;5;66;03m# Create the parser.\u001B[39;00m\n\u001B[0;32m--> 577\u001B[0m parser \u001B[38;5;241m=\u001B[39m \u001B[43mTextFileReader\u001B[49m\u001B[43m(\u001B[49m\u001B[43mfilepath_or_buffer\u001B[49m\u001B[43m,\u001B[49m\u001B[43m \u001B[49m\u001B[38;5;241;43m*\u001B[39;49m\u001B[38;5;241;43m*\u001B[39;49m\u001B[43mkwds\u001B[49m\u001B[43m)\u001B[49m\n\u001B[1;32m    579\u001B[0m \u001B[38;5;28;01mif\u001B[39;00m chunksize \u001B[38;5;129;01mor\u001B[39;00m iterator:\n\u001B[1;32m    580\u001B[0m     \u001B[38;5;28;01mreturn\u001B[39;00m parser\n",
      "File \u001B[0;32m~/.local/lib/python3.11/site-packages/pandas/io/parsers/readers.py:1407\u001B[0m, in \u001B[0;36mTextFileReader.__init__\u001B[0;34m(self, f, engine, **kwds)\u001B[0m\n\u001B[1;32m   1404\u001B[0m     \u001B[38;5;28mself\u001B[39m\u001B[38;5;241m.\u001B[39moptions[\u001B[38;5;124m\"\u001B[39m\u001B[38;5;124mhas_index_names\u001B[39m\u001B[38;5;124m\"\u001B[39m] \u001B[38;5;241m=\u001B[39m kwds[\u001B[38;5;124m\"\u001B[39m\u001B[38;5;124mhas_index_names\u001B[39m\u001B[38;5;124m\"\u001B[39m]\n\u001B[1;32m   1406\u001B[0m \u001B[38;5;28mself\u001B[39m\u001B[38;5;241m.\u001B[39mhandles: IOHandles \u001B[38;5;241m|\u001B[39m \u001B[38;5;28;01mNone\u001B[39;00m \u001B[38;5;241m=\u001B[39m \u001B[38;5;28;01mNone\u001B[39;00m\n\u001B[0;32m-> 1407\u001B[0m \u001B[38;5;28mself\u001B[39m\u001B[38;5;241m.\u001B[39m_engine \u001B[38;5;241m=\u001B[39m \u001B[38;5;28;43mself\u001B[39;49m\u001B[38;5;241;43m.\u001B[39;49m\u001B[43m_make_engine\u001B[49m\u001B[43m(\u001B[49m\u001B[43mf\u001B[49m\u001B[43m,\u001B[49m\u001B[43m \u001B[49m\u001B[38;5;28;43mself\u001B[39;49m\u001B[38;5;241;43m.\u001B[39;49m\u001B[43mengine\u001B[49m\u001B[43m)\u001B[49m\n",
      "File \u001B[0;32m~/.local/lib/python3.11/site-packages/pandas/io/parsers/readers.py:1661\u001B[0m, in \u001B[0;36mTextFileReader._make_engine\u001B[0;34m(self, f, engine)\u001B[0m\n\u001B[1;32m   1659\u001B[0m     \u001B[38;5;28;01mif\u001B[39;00m \u001B[38;5;124m\"\u001B[39m\u001B[38;5;124mb\u001B[39m\u001B[38;5;124m\"\u001B[39m \u001B[38;5;129;01mnot\u001B[39;00m \u001B[38;5;129;01min\u001B[39;00m mode:\n\u001B[1;32m   1660\u001B[0m         mode \u001B[38;5;241m+\u001B[39m\u001B[38;5;241m=\u001B[39m \u001B[38;5;124m\"\u001B[39m\u001B[38;5;124mb\u001B[39m\u001B[38;5;124m\"\u001B[39m\n\u001B[0;32m-> 1661\u001B[0m \u001B[38;5;28mself\u001B[39m\u001B[38;5;241m.\u001B[39mhandles \u001B[38;5;241m=\u001B[39m \u001B[43mget_handle\u001B[49m\u001B[43m(\u001B[49m\n\u001B[1;32m   1662\u001B[0m \u001B[43m    \u001B[49m\u001B[43mf\u001B[49m\u001B[43m,\u001B[49m\n\u001B[1;32m   1663\u001B[0m \u001B[43m    \u001B[49m\u001B[43mmode\u001B[49m\u001B[43m,\u001B[49m\n\u001B[1;32m   1664\u001B[0m \u001B[43m    \u001B[49m\u001B[43mencoding\u001B[49m\u001B[38;5;241;43m=\u001B[39;49m\u001B[38;5;28;43mself\u001B[39;49m\u001B[38;5;241;43m.\u001B[39;49m\u001B[43moptions\u001B[49m\u001B[38;5;241;43m.\u001B[39;49m\u001B[43mget\u001B[49m\u001B[43m(\u001B[49m\u001B[38;5;124;43m\"\u001B[39;49m\u001B[38;5;124;43mencoding\u001B[39;49m\u001B[38;5;124;43m\"\u001B[39;49m\u001B[43m,\u001B[49m\u001B[43m \u001B[49m\u001B[38;5;28;43;01mNone\u001B[39;49;00m\u001B[43m)\u001B[49m\u001B[43m,\u001B[49m\n\u001B[1;32m   1665\u001B[0m \u001B[43m    \u001B[49m\u001B[43mcompression\u001B[49m\u001B[38;5;241;43m=\u001B[39;49m\u001B[38;5;28;43mself\u001B[39;49m\u001B[38;5;241;43m.\u001B[39;49m\u001B[43moptions\u001B[49m\u001B[38;5;241;43m.\u001B[39;49m\u001B[43mget\u001B[49m\u001B[43m(\u001B[49m\u001B[38;5;124;43m\"\u001B[39;49m\u001B[38;5;124;43mcompression\u001B[39;49m\u001B[38;5;124;43m\"\u001B[39;49m\u001B[43m,\u001B[49m\u001B[43m \u001B[49m\u001B[38;5;28;43;01mNone\u001B[39;49;00m\u001B[43m)\u001B[49m\u001B[43m,\u001B[49m\n\u001B[1;32m   1666\u001B[0m \u001B[43m    \u001B[49m\u001B[43mmemory_map\u001B[49m\u001B[38;5;241;43m=\u001B[39;49m\u001B[38;5;28;43mself\u001B[39;49m\u001B[38;5;241;43m.\u001B[39;49m\u001B[43moptions\u001B[49m\u001B[38;5;241;43m.\u001B[39;49m\u001B[43mget\u001B[49m\u001B[43m(\u001B[49m\u001B[38;5;124;43m\"\u001B[39;49m\u001B[38;5;124;43mmemory_map\u001B[39;49m\u001B[38;5;124;43m\"\u001B[39;49m\u001B[43m,\u001B[49m\u001B[43m \u001B[49m\u001B[38;5;28;43;01mFalse\u001B[39;49;00m\u001B[43m)\u001B[49m\u001B[43m,\u001B[49m\n\u001B[1;32m   1667\u001B[0m \u001B[43m    \u001B[49m\u001B[43mis_text\u001B[49m\u001B[38;5;241;43m=\u001B[39;49m\u001B[43mis_text\u001B[49m\u001B[43m,\u001B[49m\n\u001B[1;32m   1668\u001B[0m \u001B[43m    \u001B[49m\u001B[43merrors\u001B[49m\u001B[38;5;241;43m=\u001B[39;49m\u001B[38;5;28;43mself\u001B[39;49m\u001B[38;5;241;43m.\u001B[39;49m\u001B[43moptions\u001B[49m\u001B[38;5;241;43m.\u001B[39;49m\u001B[43mget\u001B[49m\u001B[43m(\u001B[49m\u001B[38;5;124;43m\"\u001B[39;49m\u001B[38;5;124;43mencoding_errors\u001B[39;49m\u001B[38;5;124;43m\"\u001B[39;49m\u001B[43m,\u001B[49m\u001B[43m \u001B[49m\u001B[38;5;124;43m\"\u001B[39;49m\u001B[38;5;124;43mstrict\u001B[39;49m\u001B[38;5;124;43m\"\u001B[39;49m\u001B[43m)\u001B[49m\u001B[43m,\u001B[49m\n\u001B[1;32m   1669\u001B[0m \u001B[43m    \u001B[49m\u001B[43mstorage_options\u001B[49m\u001B[38;5;241;43m=\u001B[39;49m\u001B[38;5;28;43mself\u001B[39;49m\u001B[38;5;241;43m.\u001B[39;49m\u001B[43moptions\u001B[49m\u001B[38;5;241;43m.\u001B[39;49m\u001B[43mget\u001B[49m\u001B[43m(\u001B[49m\u001B[38;5;124;43m\"\u001B[39;49m\u001B[38;5;124;43mstorage_options\u001B[39;49m\u001B[38;5;124;43m\"\u001B[39;49m\u001B[43m,\u001B[49m\u001B[43m \u001B[49m\u001B[38;5;28;43;01mNone\u001B[39;49;00m\u001B[43m)\u001B[49m\u001B[43m,\u001B[49m\n\u001B[1;32m   1670\u001B[0m \u001B[43m\u001B[49m\u001B[43m)\u001B[49m\n\u001B[1;32m   1671\u001B[0m \u001B[38;5;28;01massert\u001B[39;00m \u001B[38;5;28mself\u001B[39m\u001B[38;5;241m.\u001B[39mhandles \u001B[38;5;129;01mis\u001B[39;00m \u001B[38;5;129;01mnot\u001B[39;00m \u001B[38;5;28;01mNone\u001B[39;00m\n\u001B[1;32m   1672\u001B[0m f \u001B[38;5;241m=\u001B[39m \u001B[38;5;28mself\u001B[39m\u001B[38;5;241m.\u001B[39mhandles\u001B[38;5;241m.\u001B[39mhandle\n",
      "File \u001B[0;32m~/.local/lib/python3.11/site-packages/pandas/io/common.py:859\u001B[0m, in \u001B[0;36mget_handle\u001B[0;34m(path_or_buf, mode, encoding, compression, memory_map, is_text, errors, storage_options)\u001B[0m\n\u001B[1;32m    854\u001B[0m \u001B[38;5;28;01melif\u001B[39;00m \u001B[38;5;28misinstance\u001B[39m(handle, \u001B[38;5;28mstr\u001B[39m):\n\u001B[1;32m    855\u001B[0m     \u001B[38;5;66;03m# Check whether the filename is to be opened in binary mode.\u001B[39;00m\n\u001B[1;32m    856\u001B[0m     \u001B[38;5;66;03m# Binary mode does not support 'encoding' and 'newline'.\u001B[39;00m\n\u001B[1;32m    857\u001B[0m     \u001B[38;5;28;01mif\u001B[39;00m ioargs\u001B[38;5;241m.\u001B[39mencoding \u001B[38;5;129;01mand\u001B[39;00m \u001B[38;5;124m\"\u001B[39m\u001B[38;5;124mb\u001B[39m\u001B[38;5;124m\"\u001B[39m \u001B[38;5;129;01mnot\u001B[39;00m \u001B[38;5;129;01min\u001B[39;00m ioargs\u001B[38;5;241m.\u001B[39mmode:\n\u001B[1;32m    858\u001B[0m         \u001B[38;5;66;03m# Encoding\u001B[39;00m\n\u001B[0;32m--> 859\u001B[0m         handle \u001B[38;5;241m=\u001B[39m \u001B[38;5;28;43mopen\u001B[39;49m\u001B[43m(\u001B[49m\n\u001B[1;32m    860\u001B[0m \u001B[43m            \u001B[49m\u001B[43mhandle\u001B[49m\u001B[43m,\u001B[49m\n\u001B[1;32m    861\u001B[0m \u001B[43m            \u001B[49m\u001B[43mioargs\u001B[49m\u001B[38;5;241;43m.\u001B[39;49m\u001B[43mmode\u001B[49m\u001B[43m,\u001B[49m\n\u001B[1;32m    862\u001B[0m \u001B[43m            \u001B[49m\u001B[43mencoding\u001B[49m\u001B[38;5;241;43m=\u001B[39;49m\u001B[43mioargs\u001B[49m\u001B[38;5;241;43m.\u001B[39;49m\u001B[43mencoding\u001B[49m\u001B[43m,\u001B[49m\n\u001B[1;32m    863\u001B[0m \u001B[43m            \u001B[49m\u001B[43merrors\u001B[49m\u001B[38;5;241;43m=\u001B[39;49m\u001B[43merrors\u001B[49m\u001B[43m,\u001B[49m\n\u001B[1;32m    864\u001B[0m \u001B[43m            \u001B[49m\u001B[43mnewline\u001B[49m\u001B[38;5;241;43m=\u001B[39;49m\u001B[38;5;124;43m\"\u001B[39;49m\u001B[38;5;124;43m\"\u001B[39;49m\u001B[43m,\u001B[49m\n\u001B[1;32m    865\u001B[0m \u001B[43m        \u001B[49m\u001B[43m)\u001B[49m\n\u001B[1;32m    866\u001B[0m     \u001B[38;5;28;01melse\u001B[39;00m:\n\u001B[1;32m    867\u001B[0m         \u001B[38;5;66;03m# Binary mode\u001B[39;00m\n\u001B[1;32m    868\u001B[0m         handle \u001B[38;5;241m=\u001B[39m \u001B[38;5;28mopen\u001B[39m(handle, ioargs\u001B[38;5;241m.\u001B[39mmode)\n",
      "\u001B[0;31mFileNotFoundError\u001B[0m: [Errno 2] No such file or directory: 'TDC_tasks/data/DTI/common_tasks.csv'"
     ]
    }
   ],
   "source": [
    "import os\n",
    "import sys\n",
    "import numpy as np\n",
    "import pandas as pd\n",
    "import matplotlib.pyplot as plt\n",
    "\n",
    "\n",
    "\n",
    "FS_MOL_CHECKOUT_PATH = \"../\"\n",
    "\n",
    "os.chdir(FS_MOL_CHECKOUT_PATH)\n",
    "sys.path.insert(0, FS_MOL_CHECKOUT_PATH)\n",
    "PAPER_FIGDIR = \"../paper/Paper/fig\"\n",
    "from utils_DTI import get_dataset_from_file, bounds_n_mols_task_name\n",
    "from notebook_utils import get_dataset_target_stats, get_all_datasets_stats, get_kinases_stats\n",
    "import seaborn as sns\n",
    "%matplotlib inline\n",
    "\n",
    "TASK_NAMES = [\"DAVIS\", \"BindingDB_Kd\", \"BindingDB_Ki\", \"BindingDB_IC50\", \"KIBA\"]"
   ]
  },
  {
   "cell_type": "code",
   "execution_count": null,
   "outputs": [],
   "source": [
    "full_df = get_all_datasets_stats(TASK_NAMES)\n",
    "df_target = get_dataset_target_stats(TASK_NAMES)\n",
    "sns.set_theme(style=\"white\")"
   ],
   "metadata": {
    "collapsed": false
   }
  },
  {
   "cell_type": "code",
   "execution_count": null,
   "outputs": [],
   "source": [
    "sns.set_style(\"white\")\n",
    "\n",
    "full_df = get_all_datasets_stats(TASK_NAMES)\n",
    "df_target = get_dataset_target_stats(TASK_NAMES)\n",
    "\n",
    "fig, axes = plt.subplots(1, 2, figsize=(11, 4))\n",
    "for task_name in TASK_NAMES:\n",
    "    sns.kdeplot(\n",
    "        df_target[df_target.task_name == task_name],\n",
    "        x=\"Y_bin\",\n",
    "        label=task_name,\n",
    "        common_norm=False,\n",
    "        ax=axes[0],\n",
    "        clip = (0,0.6),\n",
    "    )\n",
    "    axes[0].legend()\n",
    "    axes[0].set_xlabel(\"Distribution of the tasks' positive proportion\\n in each dataset\")\n",
    "    axes[0].set_xlim(0, 0.6)\n",
    "\n",
    "    axes[1].set_xlabel(\"pXC50 threshold\")\n",
    "    sns.histplot(\n",
    "        df_target[df_target.task_name == task_name],\n",
    "        x=\"threshold\",\n",
    "        label=task_name,\n",
    "        common_norm=False,\n",
    "        ax=axes[1],\n",
    "        stat=\"proportion\",\n",
    "        cumulative=True,\n",
    "        element=\"poly\",\n",
    "        alpha=0.05,\n",
    "        fill=True,\n",
    "        binrange=(-11,-4)\n",
    "    )\n",
    "    sns.histplot(\n",
    "        df_target[df_target.task_name == task_name],\n",
    "        x=\"threshold\",\n",
    "        label=task_name,\n",
    "        common_norm=False,\n",
    "        ax=axes[1],\n",
    "        stat=\"proportion\",\n",
    "        cumulative=True,\n",
    "        element=\"poly\",\n",
    "        alpha=1,\n",
    "        fill=False,\n",
    "        binrange=(-11,-4),\n",
    "        legend=False,\n",
    "        hue_order=[\"DAVIS\", \"BindingDB_Kd\", \"BindingDB_IC50\", \"BindingDB_Ki\", \"KIBA\"][::-1]\n",
    "    )\n",
    "    axes[1].set_ylim(0, 1)\n",
    "    axes[1].set_xlim(-10,-4.5)\n",
    "    axes[1].set_xlabel(\"Threshold cumulative distribution (pXC50)\\n in each dataset\")\n",
    "#axes[1].grid()\n",
    "#axes[0].grid()\n",
    "axes[0].legend(bbox_to_anchor=(0.15, -0.27), loc=2, borderaxespad=0., ncol=6,)\n",
    "fig.savefig(PAPER_FIGDIR + \"/DTI_split.pdf\", dpi=fig.dpi, bbox_inches = \"tight\")"
   ],
   "metadata": {
    "collapsed": false
   }
  },
  {
   "cell_type": "code",
   "execution_count": null,
   "outputs": [],
   "source": [
    "df_target.groupby(\"task_name\").Y_bin.mean()"
   ],
   "metadata": {
    "collapsed": false
   }
  },
  {
   "cell_type": "code",
   "execution_count": null,
   "outputs": [],
   "source": [
    "iskinase = get_kinases_stats(TASK_NAMES)\n",
    "full_df[[\"task_name\", \"Target_ID\"]].drop_duplicates().join(iskinase.set_index([\"Target_ID\", \"task_name\"]), on=[\"Target_ID\", \"task_name\"]).groupby([\"task_name\",]).iskinase.agg([\"mean\", \"sum\", \"count\"])"
   ],
   "metadata": {
    "collapsed": false
   }
  },
  {
   "cell_type": "code",
   "execution_count": null,
   "outputs": [],
   "source": [
    "task_avg_pos = full_df.groupby([\"task_name\"]).Y_bin.mean().reset_index()\n"
   ],
   "metadata": {
    "collapsed": false
   }
  },
  {
   "cell_type": "code",
   "execution_count": null,
   "metadata": {},
   "outputs": [],
   "source": [
    "import pandas as pd\n",
    "\n",
    "import torch\n",
    "import matplotlib.pyplot as plt\n",
    "import seaborn as sns\n",
    "\n",
    "import numpy as np\n",
    "\n",
    "X_ORDER = [\"adkt\",\"clamp\", \"q-probe\",\"l-probe\", \"protonet\", \"maml\",\"simsearch\"]\n",
    "hue_order = [\n",
    "    \"clamp\",\n",
    "    \"l-probe\",\n",
    "    \"q-probe\",\n",
    "    \"adkt\",\n",
    "    \"protonet\",\n",
    "    \"simsearch\",\n",
    "]\n",
    "cmap = {\n",
    "    \"simsearch\": \"dimgray\",\n",
    "    \"adkt\": \"mediumorchid\",\n",
    "    \"protonet\":\"dodgerblue\",\n",
    "    \"l-probe\": \"gold\",\n",
    "    \"q-probe\": \"red\",\n",
    "    \"maml\": \"indigo\",\n",
    "    \"clamp\":\"yellowgreen\"\n",
    "}"
   ]
  },
  {
   "cell_type": "code",
   "execution_count": null,
   "metadata": {
    "collapsed": false,
    "jupyter": {
     "outputs_hidden": false
    }
   },
   "outputs": [],
   "source": [
    "%matplotlib inline\n",
    "task_avg_pos"
   ]
  },
  {
   "cell_type": "code",
   "execution_count": null,
   "metadata": {
    "collapsed": false,
    "jupyter": {
     "outputs_hidden": false
    }
   },
   "outputs": [],
   "source": [
    "model_names = [\"adkt\", \"simplebsl\", \"linear_probe\", \"protonet\", \"simsearch\", \"clamp\"]\n",
    "results_df = pd.DataFrame()\n",
    "\n",
    "for model_name in model_names:\n",
    "    for task_name in TASK_NAMES:\n",
    "        path = f\"TDC_tasks/results/DTI/{model_name}_{task_name}_results.csv\"\n",
    "        if os.path.exists(path):\n",
    "            model_results_df = pd.read_csv(path, index_col=0)\n",
    "            model_results_df[\"model\"] = model_name\n",
    "            model_results_df[\"task\"] = task_name\n",
    "            results_df = pd.concat([results_df, model_results_df])\n",
    "results_df = results_df.join(task_avg_pos.set_index(\"task_name\"), on=\"task\")\n",
    "results_df.model = results_df.model.apply(lambda x: x.replace(\"simplebsl\", \"q-probe\").replace(\"linear_probe\",\"l-probe\"))"
   ]
  },
  {
   "cell_type": "code",
   "execution_count": null,
   "metadata": {
    "collapsed": false,
    "jupyter": {
     "outputs_hidden": false
    }
   },
   "outputs": [],
   "source": [
    "results_df.model.unique()"
   ]
  },
  {
   "cell_type": "code",
   "execution_count": null,
   "metadata": {
    "collapsed": false,
    "jupyter": {
     "outputs_hidden": false
    }
   },
   "outputs": [],
   "source": [
    "run_df = results_df.groupby([col for col in results_df.columns if not (col.startswith(\"au\") or col ==\"runtime\")]).mean().reset_index()\n",
    "\n",
    "for metric in [\"auroc\", \"auroc_neg\", \"auprc\", \"auprc_neg\"]:\n",
    "    if \"neg\" not in metric:\n",
    "        run_df[\"delta-{}\".format(metric)] = run_df[metric] - run_df[\"Y_bin\"]\n",
    "    else:\n",
    "        run_df[\"delta-{}\".format(metric)] = run_df[metric] - (1-run_df[\"Y_bin\"])"
   ]
  },
  {
   "cell_type": "code",
   "execution_count": null,
   "metadata": {
    "collapsed": false,
    "jupyter": {
     "outputs_hidden": false
    }
   },
   "outputs": [],
   "source": [
    "run_df.model = run_df.model.apply(lambda x: x.replace(\"linear_probe\", \"l-probe\").replace(\"simplebsl\", \"q-probe\").replace(\"clamp\", \"clamp\"))"
   ]
  },
  {
   "cell_type": "code",
   "execution_count": null,
   "metadata": {},
   "outputs": [],
   "source": [
    "#same with barplots\n",
    "%matplotlib inline\n",
    "x_order = [\"KIBA\", \"BindingDB_Kd\", \"DAVIS\"]\n",
    "hue_order = [\n",
    "    \"clamp\",\n",
    "    \"l-probe\",\n",
    "    \"q-probe\",\n",
    "    \"adkt\",\n",
    "    \"protonet\",\n",
    "    \"simsearch\",\n",
    "    #\"maml\",\n",
    "    #\"multitask\",\n",
    "]\n",
    "\n",
    "metric = \"delta-auprc\"\n",
    "fig, ax= plt.subplots(1, 1, figsize=(5, 2.2))\n",
    "\n",
    "sns.set_theme(style=\"whitegrid\")\n",
    "sns.barplot(\n",
    "    x=\"task_name\",\n",
    "    y=metric,\n",
    "    hue=\"model\",\n",
    "    data=run_df,\n",
    "    ax=ax,\n",
    "    saturation=0.7,\n",
    "    capsize=.4,\n",
    "    palette=cmap,\n",
    "    hue_order=hue_order,\n",
    "    order=x_order,\n",
    "    err_kws={\"color\": \".5\", \"linewidth\": 1.5, \"alpha\":0.5},\n",
    ")\n",
    "hfont = {'fontname':'Helvetica'}\n",
    "ax.set_title(\"Performances on DTI tasks\")\n",
    "ax.annotate('', xy=(.9, 1), xycoords='axes fraction', xytext=(.1, 1),\n",
    "            arrowprops=dict(arrowstyle=\"-|>\", color='lightblue', linewidth=6),)\n",
    "ax.text(-0.3,0.38,\"Prior shift\", c= \"lightslategrey\")\n",
    "ax.legend(loc='lower center')\n",
    "ax.set_xlabel(\"\")\n",
    "ax.set_ylabel(\"$\\Delta AUPRC$\")\n",
    "\n",
    "ax.set_ylim(0.16,)\n",
    "ax.legend(bbox_to_anchor=(-0.05, -0.18), loc=2, borderaxespad=0., ncol=3)\n",
    "\n",
    "\n",
    "\n",
    "fig.savefig(PAPER_FIGDIR + \"/barplot_kn_DTI.pdf\",bbox_inches='tight')\n",
    "plt.show()"
   ]
  },
  {
   "cell_type": "code",
   "execution_count": null,
   "metadata": {
    "collapsed": false,
    "jupyter": {
     "outputs_hidden": false
    }
   },
   "outputs": [],
   "source": [
    "#same with barplots\n",
    "%matplotlib inline\n",
    "x_order = [\"BindingDB_Ki\", \"BindingDB_IC50\"]\n",
    "hue_order = [\n",
    "    \"clamp\",\n",
    "    \"l-probe\",\n",
    "    \"q-probe\",\n",
    "    \"adkt\",\n",
    "    \"protonet\",\n",
    "    \"simsearch\",\n",
    "    #\"maml\",\n",
    "    #\"multitask\",\n",
    "]\n",
    "\n",
    "metric = \"delta-auprc\"\n",
    "fig, ax= plt.subplots(1, 1, figsize=(5, 2))\n",
    "\n",
    "sns.set_theme(style=\"whitegrid\")\n",
    "sns.barplot(\n",
    "    x=\"task_name\",\n",
    "    y=metric,\n",
    "    hue=\"model\",\n",
    "    data=run_df,\n",
    "    ax=ax,\n",
    "    saturation=0.7,\n",
    "    capsize=.4,\n",
    "    palette=cmap,\n",
    "    hue_order=hue_order,\n",
    "    order=x_order,\n",
    "    err_kws={\"color\": \".5\", \"linewidth\": 1.5, \"alpha\":0.5},\n",
    ")\n",
    "\n",
    "ax.set_title(\"Performances on DTI tasks\")\n",
    "ax.legend(loc='lower center')\n",
    "ax.set_xlabel(\"\")\n",
    "ax.set_ylabel(\"$\\Delta AUPRC$\")\n",
    "\n",
    "ax.set_ylim(0.15,)\n",
    "ax.legend(bbox_to_anchor=(-0.1, -0.3), loc=2, borderaxespad=0., ncol=3)\n",
    "\n",
    "fig.savefig(PAPER_FIGDIR + \"/barplot_full_DTI.pdf\",bbox_inches='tight')\n",
    "plt.show()"
   ]
  },
  {
   "cell_type": "code",
   "execution_count": null,
   "metadata": {},
   "outputs": [],
   "source": []
  },
  {
   "cell_type": "code",
   "execution_count": null,
   "metadata": {},
   "outputs": [],
   "source": []
  }
 ],
 "metadata": {
  "kernelspec": {
   "display_name": "Python 3 (ipykernel)",
   "language": "python",
   "name": "python3"
  },
  "language_info": {
   "codemirror_mode": {
    "name": "ipython",
    "version": 3
   },
   "file_extension": ".py",
   "mimetype": "text/x-python",
   "name": "python",
   "nbconvert_exporter": "python",
   "pygments_lexer": "ipython3",
   "version": "3.10.13"
  }
 },
 "nbformat": 4,
 "nbformat_minor": 4
}
