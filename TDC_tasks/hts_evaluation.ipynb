{
 "cells": [
  {
   "cell_type": "code",
   "execution_count": null,
   "metadata": {},
   "outputs": [],
   "source": [
    "import os\n",
    "import sys\n",
    "import numpy as np\n",
    "import pandas as pd\n",
    "import matplotlib.pyplot as plt\n",
    "import datamol as dm\n",
    "\n",
    "import matplotlib.pyplot as plt\n",
    "import seaborn as sns\n",
    "import numpy as np\n",
    "from tqdm import tqdm\n",
    "import warnings\n",
    "\n",
    "warnings.filterwarnings(\"ignore\")\n",
    "tqdm.pandas()\n",
    "\n",
    "from TDC_tasks.utils_HTS import open_dataset\n",
    "\n",
    "datasets = ['ALDH1', 'ESR1_ant', 'GBA', 'HIV', 'MAPK1', 'MTORC1',\n",
    "       'PPARG', 'SARSCoV2_Vitro_Touret', 'TP53',\n",
    "       'VDR', 'cav3_t-type_calcium_channels_butkiewicz',\n",
    "       'm1_muscarinic_receptor_agonists_butkiewicz',\n",
    "       'm1_muscarinic_receptor_antagonists_butkiewicz',\n",
    "       'orexin1_receptor_butkiewicz',\n",
    "        'PKM2', 'OPRK1',]\n",
    "PAPER_FIGDIR = \"../../paper/Paper/fig\"\n",
    "df_easiness_dict = {\"task_name\":[], \"value\": [], \"i\":[], \"j\":[]}\n",
    "dist_mat = {}\n",
    "\n",
    "\n",
    "%matplotlib inline\n",
    "for task_name in datasets:\n",
    "    if len(task_name.replace(\"_\", \" _\").split(\"_\")) == 1:\n",
    "        task_name_plot = task_name\n",
    "    else:\n",
    "        task_name_plot = \"\".join(task_name.replace(\"_\", \" _\").split(\"_\")[:-1]).replace(\"m1 muscarinic receptor\",\"Musc. rec.\").replace(\"t-type calcium \", \"\")\n",
    "    df = open_dataset(f\"data/HTS/{task_name}_preprocessed.csv\", \"../fs_mol/preprocessing/utils/helper_files\", 30000, True)\n",
    "    df = df[df.Y==1]\n",
    "    df[\"mol\"] = df.Drug.progress_apply(dm.to_mol)\n",
    "    dist_pos = dm.pdist(df.mol, n_jobs=1)\n",
    "    dist_mat[task_name_plot] = dist_pos\n",
    "    for i in range(dist_pos.shape[0]):\n",
    "        for j in range(dist_pos.shape[0]):\n",
    "            if not i==j:\n",
    "                df_easiness_dict[\"task_name\"].append(task_name_plot)\n",
    "                df_easiness_dict[\"value\"].append(dist_pos[i,j])\n",
    "                df_easiness_dict[\"i\"].append(i)\n",
    "                df_easiness_dict[\"j\"].append(j)"
   ]
  },
  {
   "cell_type": "code",
   "execution_count": null,
   "metadata": {
    "is_executing": true
   },
   "outputs": [],
   "source": [
    "df_easiness = pd.DataFrame(df_easiness_dict)\n",
    "df_easiness.task_name = df_easiness.task_name.apply(lambda x: x.replace(\"antagonists\", \"ant.\").replace(\"agonists\", \"agon.\").replace(\"receptor\", \"rec.\").replace(\"channels\", \"ch.\"))\n",
    "df_easiness[\"value\"] = 1-df_easiness[\"value\"]\n",
    "df_easiness.groupby([\"task_name\",\"i\"]).max().reset_index().groupby(\"task_name\")[\"value\"].median()"
   ]
  },
  {
   "cell_type": "code",
   "execution_count": null,
   "metadata": {},
   "outputs": [],
   "source": []
  },
  {
   "cell_type": "code",
   "execution_count": null,
   "metadata": {},
   "outputs": [],
   "source": [
    "df_easiness.groupby([\"task_name\",\"i\"]).max().reset_index().groupby(\"task_name\")[\"value\"].median()"
   ]
  },
  {
   "cell_type": "code",
   "execution_count": null,
   "metadata": {},
   "outputs": [],
   "source": [
    "df_easiness.groupby([\"task_name\",\"i\"]).max().reset_index().groupby(\"task_name\")[\"value\"].quantile(0.75)"
   ]
  },
  {
   "cell_type": "code",
   "execution_count": null,
   "metadata": {},
   "outputs": [],
   "source": [
    "df_easiness.groupby([\"task_name\",\"i\"]).max().reset_index().groupby(\"task_name\")[\"value\"].mean().sort_values()"
   ]
  },
  {
   "cell_type": "code",
   "execution_count": null,
   "metadata": {},
   "outputs": [],
   "source": [
    "for i, task in enumerate(dist_mat.keys()):\n",
    "    cg = sns.clustermap(1-dist_mat[task], cmap=\"viridis\", vmin=0.0,vmax = 1, figsize=(20,20), yticklabels=False, xticklabels=False, cbar=None)\n",
    "    cg.cax.set_visible(False)\n",
    "    cg.ax_row_dendrogram.set_visible(False)\n",
    "    cg.ax_col_dendrogram.set_visible(False)\n",
    "    cg.xticklabels = []\n",
    "    cg.savefig(PAPER_FIGDIR + \"/hts_tanimot_clustermap_{}.pdf\".format(task))\n",
    "    plt.clf()"
   ]
  },
  {
   "cell_type": "code",
   "execution_count": null,
   "metadata": {},
   "outputs": [],
   "source": [
    "FIGSIZE = 11\n",
    "\n",
    "fig = plt.figure(figsize=(FIGSIZE, FIGSIZE))\n",
    "subfigs = fig.subfigures(1, 2, width_ratios=[0.8, 2.2])\n",
    "import matplotlib.image as mpimg\n",
    "\n",
    "axsLeft = subfigs[0].subplots(1, 1, sharey=True)\n",
    "\n",
    "closest_neighb = df_easiness.groupby([\"task_name\",\"i\"]).max().reset_index().sort_values(\"value\")\n",
    "sns.violinplot(\n",
    "    closest_neighb,\n",
    "    x=\"value\", \n",
    "    y= \"task_name\",\n",
    "    hue=\"task_name\",\n",
    "    saturation = 0.5,\n",
    "    palette=sns.color_palette(\"husl\", 8),\n",
    "    ax = axsLeft,\n",
    "    bw_adjust=.4,\n",
    "    cut=0,\n",
    "    order = closest_neighb.groupby(\"task_name\")[\"value\"].median().sort_values().index.tolist(),\n",
    ")# common_norm=False)\n",
    "axsLeft.set_xlabel(\"Tanimoto similarity to the closest\\n neighbor between positive examples\")\n",
    "axsLeft.set_ylabel(\"\")\n",
    "\n",
    "n_figs = 4\n",
    "axsRight = subfigs[1].subplots(n_figs, n_figs,)\n",
    "\n",
    "for i, task in enumerate(dist_mat.keys()):\n",
    "    img = mpimg.imread(\"../paper/Paper/fig/hts_tanimot_clustermap_{}.png\".format(task))\n",
    "    axsRight[i%n_figs,i//n_figs].imshow(img)\n",
    "    axsRight[i%n_figs,i//n_figs].set_axis_off()\n",
    "    axsRight[i%n_figs,i//n_figs].set_title(task)\n",
    "\n",
    "fig.savefig(PAPER_FIGDIR + \"/htd_tanimot_sim_cplx.pdf\",bbox_inches='tight')"
   ]
  },
  {
   "cell_type": "code",
   "execution_count": null,
   "metadata": {},
   "outputs": [],
   "source": [
    "import os\n",
    "import sys\n",
    "\n",
    "import pandas as pd\n",
    "import matplotlib.pyplot as plt\n",
    "import seaborn as sns\n",
    "import numpy as np\n",
    "from tqdm import tqdm\n",
    "from matplotlib.ticker import FormatStrFormatter\n"
   ]
  },
  {
   "cell_type": "code",
   "execution_count": null,
   "metadata": {
    "collapsed": false,
    "jupyter": {
     "outputs_hidden": false
    }
   },
   "outputs": [],
   "source": [
    "%matplotlib inline"
   ]
  },
  {
   "cell_type": "code",
   "execution_count": null,
   "metadata": {
    "collapsed": false,
    "jupyter": {
     "outputs_hidden": false
    }
   },
   "outputs": [],
   "source": [
    "#Import all csv in data/HTS\n",
    "df = pd.DataFrame()\n",
    "\n",
    "for file in tqdm(os.listdir(\"results/HTS\")):\n",
    "    if not \"query_prop\" in pd.read_csv(\"results/HTS/\"+file, index_col=0):\n",
    "        print(file)\n",
    "        continue\n",
    "    if not \"maml\" in file:\n",
    "        df_tmp = pd.read_csv(\"results/HTS/\"+file, index_col=0)\n",
    "\n",
    "        groupbydf_max_mols = df_tmp.groupby([\"task_name\", \"task_prop\", \"task_size\", \"model\"]).n_mols.max().reset_index()\n",
    "\n",
    "        df_tmp = df_tmp.join(\n",
    "            groupbydf_max_mols.set_index([\"task_name\", \"task_prop\", \"task_size\", \"model\"]),\n",
    "            on=[\"task_name\", \"task_prop\", \"task_size\", \"model\"],\n",
    "            rsuffix=\"_max\"\n",
    "        )\n",
    "\n",
    "        df_tmp[\"top-%\"] = df_tmp[\"n_mols\"] / df_tmp[\"n_mols_max\"] *100\n",
    "        df_tmp = df_tmp[(df_tmp[\"top-%\"] < 30) | (df_tmp[\"top-%\"]> 95)]\n",
    "        df = pd.concat([df, df_tmp])\n",
    "        del df_tmp\n",
    "\n",
    "# 11,32,37,64\n",
    "df.groupby(\"task_name\").model.unique()"
   ]
  },
  {
   "cell_type": "code",
   "execution_count": null,
   "metadata": {
    "collapsed": false,
    "jupyter": {
     "outputs_hidden": false
    }
   },
   "outputs": [],
   "source": [
    "TASKS = ['TP53',\n",
    " 'OPRK1',\n",
    " 'HIV',\n",
    " 'GBA',\n",
    " 'ESR1_ant',\n",
    " 'cav3_t-type_calcium_channels_butkiewicz',\n",
    " 'PKM2',\n",
    " 'VDR',\n",
    " 'MTORC1',\n",
    " 'm1_muscarinic_receptor_antagonists_butkiewicz',\n",
    " 'PPARG',\n",
    " 'orexin1_receptor_butkiewicz',\n",
    " 'MAPK1',\n",
    " 'ALDH1',\n",
    " 'm1_muscarinic_receptor_agonists_butkiewicz',\n",
    " 'SARSCoV2_Vitro_Touret']\n",
    "\n",
    "df = df[df.task_name.isin(TASKS)]"
   ]
  },
  {
   "cell_type": "code",
   "execution_count": null,
   "metadata": {
    "collapsed": false,
    "jupyter": {
     "outputs_hidden": false
    }
   },
   "outputs": [],
   "source": [
    "from tqdm import tqdm\n",
    "tqdm.pandas()\n",
    "\n",
    "hue_order = [\"clamp\", \"linear_probe\", \"simplebsl\", \"adkt\",  \"protonet\", \"simsearch\"]"
   ]
  },
  {
   "cell_type": "code",
   "execution_count": null,
   "metadata": {
    "collapsed": false,
    "jupyter": {
     "outputs_hidden": false
    }
   },
   "outputs": [],
   "source": [
    "cmap = {\n",
    "    \"simsearch\": \"black\",\n",
    "    \"adkt\": \"mediumorchid\",\n",
    "    \"protonet\":\"dodgerblue\",\n",
    "    \"l-probe\": \"gold\",\n",
    "    \"q-probe\": \"red\",\n",
    "    \"maml\": \"indigo\",\n",
    "    \"clamp\":\"olive\"\n",
    "}\n",
    "\n",
    "plt.rcParams['text.usetex'] = False\n",
    "\n",
    "df.model = df.model.apply(lambda x: x.replace(\"linear_probe\", \"l-probe\").replace(\"simplebsl\", \"q-probe\"))"
   ]
  },
  {
   "cell_type": "code",
   "execution_count": null,
   "outputs": [],
   "source": [
    "from matplotlib.ticker import FormatStrFormatter\n",
    "sns.set_style(\"white\")\n",
    "\n",
    "def plot_hitrate_lp_double_fig(ylim_task,FIG_SIZE = 2.5, fig_multiplier= 2.5, prop = 0.05, bbox_to_anchor=(.5, -8.1)):\n",
    "    fig_glob = plt.figure(figsize=(FIG_SIZE*df.task_size.nunique()*fig_multiplier, FIG_SIZE*df.task_name.nunique()))\n",
    "    subfigs = fig_glob.subfigures(1, 2, width_ratios=[1,1])\n",
    "\n",
    "    for i_plot in range(2):\n",
    "        fig = subfigs[i_plot]\n",
    "        axes = fig.subplots(\n",
    "            df.task_name.nunique()//2,\n",
    "            df.task_size.nunique(),\n",
    "            sharex=True,\n",
    "        )\n",
    "        considered_tasks = TASKS[:8] if i_plot == 0 else TASKS[8:]\n",
    "\n",
    "        fig.subplots_adjust(hspace=0.1)\n",
    "\n",
    "        run_df = df[\n",
    "            (df[\"top-%\"] <= 30) & (df[\"task_prop\"] == prop) & (df.task_name.isin(considered_tasks))\n",
    "        ]\n",
    "        run_df[\"hitrate\"] *=100\n",
    "\n",
    "        for i, task_name in enumerate(considered_tasks):\n",
    "            if len(task_name.split(\"_\")) == 1:\n",
    "                task_name_plot = task_name\n",
    "            else:\n",
    "                task_name_plot = \"\".join(task_name.replace(\"_\", \" _\").split(\"_\")[:-1]).replace(\"m1 muscarinic receptor\",\"Musc. rec.\").replace(\"t-type calcium \", \"\")\n",
    "\n",
    "            for j, task_size in enumerate(run_df.task_size.unique()):\n",
    "                sns.lineplot(\n",
    "                    data = run_df[(run_df.task_name == task_name) & (run_df.task_size == task_size)],\n",
    "                    x=\"top-%\",\n",
    "                    y=\"hitrate\",\n",
    "                    hue=\"model\",\n",
    "                    ax=axes[i,j],\n",
    "                    palette=cmap,\n",
    "                    errorbar=None,\n",
    "                    legend = (i+j) + i_plot == 0\n",
    "                )\n",
    "                # Add hline correspondig to the random hitrate\n",
    "                axes[i,j].axhline(100*run_df[(run_df.task_name == task_name) & (run_df.task_size == task_size)].query_prop.mean(), alpha = 0.5, color = \"grey\", linestyle=\"--\")\n",
    "\n",
    "                axes[i,j].locator_params(axis='y', nbins=3)\n",
    "                axes[i,j].yaxis.set_major_formatter(FormatStrFormatter('%.0f'))\n",
    "                if task_name_plot in ylim_task.keys():\n",
    "                    axes[i,j].set_ylim(ylim_task[task_name_plot][0], ylim_task[task_name_plot][1])\n",
    "                axes[i,j].set_xlim(1,14)\n",
    "                axes[i,j].set_ylabel(\"\")\n",
    "                axes[i,j].set_xlabel(\"\")\n",
    "\n",
    "                axes[0,j].set_title(\"$|\\mathcal{S}|$ = \" + \"{}\".format(task_size))\n",
    "                axes[i,0].set_ylabel(\"{}\\nHitrate (%)\".format(task_name_plot))\n",
    "                axes[-1,j].set_xlabel(\"top-k%\" )\n",
    "\n",
    "                #if not the first column, don't show yticks\n",
    "                if j != 0:\n",
    "                    axes[i,j].tick_params(axis='y', which='both', left=False, right=False, labelleft=False)\n",
    "\n",
    "                axes[i,j].grid()\n",
    "        if i_plot == 0:\n",
    "            axes[0,0].legend(bbox_to_anchor=bbox_to_anchor, loc=2, borderaxespad=0., ncol=3, )#prop={'size': 15})\n",
    "\n",
    "\n"
   ],
   "metadata": {
    "collapsed": false
   }
  },
  {
   "cell_type": "code",
   "execution_count": null,
   "outputs": [],
   "source": [
    "%matplotlib inline\n",
    "ylim_task = {\n",
    "    \"cav3 channels \": (2,10),\n",
    "    \"orexin1 receptor \": (0.5,5),\n",
    "    \"SARSCoV2 Vitro \":(3,12),\n",
    "    \"Musc. rec. agonists \": (0.4,2.5),\n",
    "    \"Musc. rec. antagonists \": (0.8,5),\n",
    "    \"HIV\": (4.5,30),\n",
    "    \"ALDH1\": (4,8),\n",
    "    \"ESR1 \": (1,10),\n",
    "    \"GBA\": (0,5),\n",
    "    \"MAPK1\": (0,3),\n",
    "    \"MTORC1\": (0.2,1.8),\n",
    "    \"PPARG\": (0,5),\n",
    "    \"TP53\": (1.5,10),\n",
    "    \"VDR\": (2.5,15),\n",
    "    \"PKM2\": (0,7),\n",
    "    \"OPRK1\": (0,2),\n",
    "}\n",
    "plot_hitrate_lp_double_fig(ylim_task,1.0, fig_multiplier=3, bbox_to_anchor=(0.3, -8.1))\n",
    "plt.savefig(PAPER_FIGDIR + \"/hts_005_lineplot.pdf\")\n",
    "\n"
   ],
   "metadata": {
    "collapsed": false
   }
  },
  {
   "cell_type": "code",
   "execution_count": null,
   "metadata": {
    "collapsed": false,
    "jupyter": {
     "outputs_hidden": false
    }
   },
   "outputs": [],
   "source": [
    "ylim_task = {\n",
    "    \"cav3 channels \": (2,10),\n",
    "    \"orexin1 receptor \": (0.5,5),\n",
    "    \"SARSCoV2 Vitro \":(3,12),\n",
    "    \"Musc. rec. agonists \": (0.4,2.5),\n",
    "    \"Musc. rec. antagonists \": (0.8,5),\n",
    "    \"HIV\": (4.5,30),\n",
    "    \"ALDH1\": (4,8),\n",
    "    \"ESR1 \": (1,10),\n",
    "    \"GBA\": (0,5),\n",
    "    \"MAPK1\": (0,3),\n",
    "    \"MTORC1\": (0.2,1.8),\n",
    "    \"PPARG\": (0,5),\n",
    "    \"TP53\": (1.5,10),\n",
    "    \"VDR\": (2.5,15),\n",
    "    \"PKM2\": (0,7),\n",
    "    \"OPRK1\": (0,2),\n",
    "}\n",
    "\n",
    "plot_hitrate_lp_double_fig(ylim_task,1.0, fig_multiplier=3, bbox_to_anchor=(0.3, -8.1), prop=0.1)\n",
    "plt.savefig(PAPER_FIGDIR + \"/hts_01_lineplot.pdf\")\n",
    "\n"
   ]
  },
  {
   "cell_type": "code",
   "execution_count": null,
   "metadata": {
    "collapsed": false,
    "jupyter": {
     "outputs_hidden": false
    }
   },
   "outputs": [],
   "source": [
    "HITRATES = list(range(1,16)) + [100]\n",
    "\n",
    "new_df = []\n",
    "for hitrate in tqdm(HITRATES):\n",
    "    df[f\"top-{hitrate}%\"] = abs(df[\"top-%\"] - hitrate)\n",
    "    closest_value = df.groupby([\"task_name\", \"task_size\", \"model\", \"random_seed\", \"task_prop\"]).min()\n",
    "    tmp = df.groupby([\"task_name\", \"task_size\", \"model\", \"random_seed\", \"task_prop\"])[f\"top-{hitrate}%\"].min()\n",
    "    tmp = df.join(\n",
    "        tmp.reset_index().set_index([\"task_name\", \"task_size\", \"model\", \"random_seed\", \"task_prop\", f\"top-{hitrate}%\"]),\n",
    "        on=[\"task_name\", \"task_size\", \"model\", \"random_seed\", \"task_prop\", f\"top-{hitrate}%\"],\n",
    "        rsuffix=\"_min\",\n",
    "        how=\"inner\"\n",
    "    )\n",
    "    tmp = tmp.groupby([\"task_name\", \"task_size\", \"model\", \"random_seed\", \"task_prop\"]).mean().reset_index()\n",
    "    new_df.append(\n",
    "        tmp[\n",
    "            [\"task_name\", \"task_size\", \"model\", \"hitrate\", \"random_seed\", \"task_prop\"]\n",
    "        ].rename(columns={\"hitrate\": f\"top-{hitrate}%\"})\n",
    "    )\n",
    "\n"
   ]
  },
  {
   "cell_type": "code",
   "execution_count": null,
   "metadata": {
    "collapsed": false,
    "jupyter": {
     "outputs_hidden": false
    }
   },
   "outputs": [],
   "source": [
    "df_bins = pd.DataFrame()\n",
    "for df_hit in new_df:\n",
    "    if df_bins.empty:\n",
    "        df_bins = df_hit\n",
    "    else:\n",
    "        df_bins = df_bins.join(\n",
    "            df_hit.set_index([\"task_name\", \"task_size\", \"model\", \"random_seed\", \"task_prop\"]),\n",
    "            on=[\"task_name\", \"task_size\", \"model\", \"random_seed\", \"task_prop\"],\n",
    "            how=\"inner\"\n",
    "        )\n",
    "        print(df_bins.shape)"
   ]
  },
  {
   "cell_type": "code",
   "execution_count": null,
   "metadata": {
    "collapsed": false,
    "jupyter": {
     "outputs_hidden": false
    }
   },
   "outputs": [],
   "source": [
    "HITRATES = HITRATES[:-1]"
   ]
  },
  {
   "cell_type": "code",
   "execution_count": null,
   "metadata": {},
   "outputs": [],
   "source": [
    "df_bins.model.unique()"
   ]
  },
  {
   "cell_type": "code",
   "execution_count": null,
   "metadata": {
    "collapsed": false,
    "jupyter": {
     "outputs_hidden": false
    }
   },
   "outputs": [],
   "source": [
    "for hitrate in main_HITRATES:\n",
    "    df_bins[f\"delta-top-{hitrate}%\"] = (df_bins[f\"top-{hitrate}%\"] - df_bins[f\"top-100%\"])/ df_bins[f\"top-100%\"]\n",
    "\n",
    "#delta-simsearch is the same but comparing all models to the simsearch baseline\n",
    "hitrates_simsearch = df_bins[df_bins.model == \"simsearch\"].drop(columns=[\"model\"]).rename(columns={\"delta-top-1%\": \"delta-top-1%-simsearch\", \"delta-top-5%\": \"delta-top-5%-simsearch\", \"delta-top-10%\": \"delta-top-10%-simsearch\", \"delta-top-15%\": \"delta-top-15%-simsearch\"})\n",
    "\n",
    "df_bins = df_bins.join(\n",
    "    hitrates_simsearch.set_index([\"task_name\", \"task_size\", \"random_seed\"]),\n",
    "    on=[\"task_name\", \"task_size\", \"random_seed\"],\n",
    "    rsuffix=\"_simsearch\"\n",
    ")"
   ]
  },
  {
   "cell_type": "code",
   "execution_count": null,
   "metadata": {
    "collapsed": false,
    "jupyter": {
     "outputs_hidden": false
    }
   },
   "outputs": [],
   "source": [
    "#Ranking of the models\n",
    "HITRATES = list(range(1,16))"
   ]
  },
  {
   "cell_type": "code",
   "execution_count": null,
   "metadata": {
    "collapsed": false,
    "jupyter": {
     "outputs_hidden": false
    }
   },
   "outputs": [],
   "source": [
    "from autorank import autorank, plot_stats, create_report, latex_table\n",
    "\n",
    "# Rank models on each task_name, task_prop, task_size\n",
    "df_ranks_full = pd.DataFrame()\n",
    "for hitrate in HITRATES:\n",
    "\n",
    "    print(f\"Ranking for top-{hitrate}% hitrate\")\n",
    "    df_hitrate = df_bins[[col for col in df_bins.columns if (not col.startswith(\"top\") or col == f\"top-{hitrate}%\")]]\n",
    "    df_hitrate= df_hitrate.pivot_table(index=[\"task_name\", \"task_size\", \"random_seed\",], columns=\"model\", values=f\"top-{hitrate}%\")\n",
    "    df_hitrate.columns.name=None\n",
    "    df_hitrate = df_hitrate.reset_index()\n",
    "\n",
    "    df_ranks = {\n",
    "        \"task_name\": [],\n",
    "        \"task_size\": [],\n",
    "        \"model\": [],\n",
    "        \"rank\": [],\n",
    "    }\n",
    "\n",
    "    for task_name in tqdm(df.task_name.unique()):\n",
    "        for task_size in df.task_size.unique():\n",
    "            df_to_rank = df_hitrate[(df_hitrate.task_name == task_name) & (df_hitrate.task_size == task_size)].drop(columns=[\"random_seed\", \"task_size\",\"task_name\",])\n",
    "            ranks = autorank(df_to_rank, alpha=0.0125, verbose=False).rankdf.meanrank\n",
    "            for model, rank in ranks.items():\n",
    "                df_ranks[\"task_name\"].append(task_name)\n",
    "                df_ranks[\"task_size\"].append(task_size)\n",
    "                df_ranks[\"model\"].append(model)\n",
    "                df_ranks[\"rank\"].append(rank)\n",
    "\n",
    "    df_ranks = pd.DataFrame(df_ranks)\n",
    "    df_ranks[\"top-%\"] = hitrate\n",
    "    df_ranks_full = pd.concat([df_ranks_full, df_ranks])"
   ]
  },
  {
   "cell_type": "code",
   "execution_count": null,
   "outputs": [],
   "source": [
    "TDC = [\n",
    " \"HIV\", \"SARSCoV2_Vitro_Touret\", \"orexin1_receptor_butkiewicz\", \"m1_muscarinic_receptor_agonists_butkiewicz\", \"m1_muscarinic_receptor_antagonists_butkiewicz\", \"cav3_t-type_calcium_channels_butkiewicz\"\n",
    "]"
   ],
   "metadata": {
    "collapsed": false
   }
  },
  {
   "cell_type": "code",
   "execution_count": null,
   "metadata": {
    "scrolled": true
   },
   "outputs": [],
   "source": [
    "%matplotlib inline\n",
    "#barplot rank\n",
    "SIZES = [16, 32, 64,128]\n",
    "\n",
    "\n",
    "FIGSIZE = 3.5\n",
    "\n",
    "def plot_ranking_topk(df, topks, ylim = (5.5,2.1), alpha = 0.3):\n",
    "    fig,axes = plt.subplots(2,2,figsize=(FIGSIZE,FIGSIZE,), sharex=True,sharey=True)\n",
    "    fig.subplots_adjust(hspace=0.3)\n",
    "    for i, top in enumerate(topks):\n",
    "        ax = axes[i//2,i%2]\n",
    "        df_ranks_this_plot = df[(df[\"top-%\"] == top)]\n",
    "        df_ranks_this_plot[\"task_name_plot\"] = df_ranks_this_plot.task_name.apply(lambda x: \"\".join(x.replace(\"receptor_\", \"\").replace(\"_\", \" _\").split(\"_\")[:3] if \"muscarinic\" in x else x.replace(\"_\", \" _\").split(\"_\")[:2]))\n",
    "        df_ranks_this_plot.groupby([\"task_size\", \"model\"]).mean().reset_index().pivot_table(index=\"task_size\", columns=\"model\", values=\"rank\")\n",
    "\n",
    "        meanrank = df_ranks_this_plot.groupby([\"task_size\", \"model\", \"task_name_plot\"]).mean().reset_index()\n",
    "        hue_order = [\"clamp\",\"q-probe\",\"l-probe\",  \"adkt\",  \"protonet\", \"simsearch\"]\n",
    "        sns.pointplot(\n",
    "            data = meanrank,\n",
    "            x=\"task_size\",\n",
    "            y=\"rank\",\n",
    "            hue = \"model\",\n",
    "            ax=ax,\n",
    "            palette=cmap,\n",
    "            hue_order=hue_order,\n",
    "            errorbar=(\"ci\", 90),\n",
    "            alpha=0.1,\n",
    "            capsize=.1,\n",
    "            scale=.5,\n",
    "            legend=False\n",
    "        )\n",
    "        sns.pointplot(\n",
    "            data = meanrank,\n",
    "          x=\"task_size\",\n",
    "          y=\"rank\",\n",
    "          hue = \"model\",\n",
    "          ax=ax,\n",
    "          palette=cmap,\n",
    "          hue_order=hue_order,\n",
    "          errorbar=None,\n",
    "            scale = 0.6,\n",
    "          alpha = alpha,\n",
    "            legend=False\n",
    "         )\n",
    "        sns.pointplot(\n",
    "            data = meanrank[meanrank.model==\"q-probe\"],\n",
    "          x=\"task_size\",\n",
    "          y=\"rank\",\n",
    "          hue = \"model\",\n",
    "          ax=ax,\n",
    "          palette=cmap,\n",
    "          hue_order=hue_order,\n",
    "          errorbar=None,\n",
    "            scale = 0.6,\n",
    "          alpha = 1\n",
    "         )\n",
    "        # invert y scale\n",
    "        ax.invert_yaxis()\n",
    "        ax.set_ylim(ylim[0], ylim[1])\n",
    "        if i == 3:\n",
    "            ax.legend(bbox_to_anchor=(0,-0.65), loc=\"center\", borderaxespad=0., ncol=3)\n",
    "        else:\n",
    "            ax.get_legend().remove()\n",
    "        if i//2 == 1:\n",
    "            ax.set_xlabel(\"$|\\mathcal{S}|$\")\n",
    "        else:\n",
    "            ax.set_xlabel(\"\")\n",
    "        ax.set_ylabel(\"Mean rank\")\n",
    "        ax.set_title(\"top-{}%\".format(top))\n",
    "        #ax.grid()\n"
   ]
  },
  {
   "cell_type": "code",
   "execution_count": null,
   "outputs": [],
   "source": [
    "plot_ranking_topk(df_ranks_full[(df_ranks_full.task_name.isin(TDC))], topks = [1,5,10,15])\n",
    "plt.savefig(PAPER_FIGDIR + \"/hts_ranking.pdf\", dpi=300, bbox_inches='tight')"
   ],
   "metadata": {
    "collapsed": false
   }
  },
  {
   "cell_type": "code",
   "execution_count": null,
   "outputs": [],
   "source": [
    "plot_ranking_topk(df_ranks_full[~(df_ranks_full.task_name.isin(TDC))], topks = [1,5,10,15])\n",
    "plt.savefig(PAPER_FIGDIR + \"/hts_ranking_lit.pdf\", dpi=300, bbox_inches='tight')"
   ],
   "metadata": {
    "collapsed": false
   }
  },
  {
   "cell_type": "code",
   "execution_count": null,
   "outputs": [],
   "source": [
    "plot_ranking_topk(df_ranks_full, topks = [1,5,10,15], ylim=(5.3,2.))\n",
    "plt.savefig(PAPER_FIGDIR + \"/hts_ranking_full.pdf\", dpi=300, bbox_inches='tight')"
   ],
   "metadata": {
    "collapsed": false
   }
  },
  {
   "cell_type": "code",
   "execution_count": null,
   "metadata": {},
   "outputs": [],
   "source": [
    "# barplot top 10% hitrate\n",
    "%matplotlib inline\n",
    "TASKS_ORDER = [\n",
    "    \"m1_muscarinic_receptor_agonists_butkiewicz\",\n",
    "    \"orexin1_receptor_butkiewicz\",\n",
    "    \"SARSCoV2_Vitro_Touret\",\n",
    "    \"HIV\",\n",
    "    \"m1_muscarinic_receptor_antagonists_butkiewicz\",\n",
    "    \"cav3_t-type_calcium_channels_butkiewicz\",\n",
    "\n",
    "]\n",
    "\n",
    "def plot_barplot_hitrate(\n",
    "    axes,\n",
    "    fig,\n",
    "    prop = 0.05,\n",
    "    size = 64,\n",
    "    top = 5,\n",
    "    bbox_to_anchor=(.5, -.1)\n",
    "):\n",
    "    df_this_plot = df_bins[\n",
    "               (df_bins.task_size == size) #& (df_bins.task_prop == prop)\n",
    "    ]\n",
    "    df_this_lineplot = df[\n",
    "                      (df.task_size == size) #& (df.task_prop == prop)\n",
    "        ]\n",
    "    \n",
    "    df_this_plot[\"top-{}%\".format(top)] = df_this_plot[\"top-{}%\".format(top)] * 100\n",
    "    df_this_lineplot.hitrate= df_this_lineplot.hitrate * 100\n",
    "    \n",
    "    df_this_plot.model = df_this_plot.model.apply(lambda x: x.replace(\"linear_probe\", \"l-probe\").replace(\"simplebsl\", \"q-probe\"))\n",
    "    df_this_lineplot.model = df_this_lineplot.model.apply(lambda x: x.replace(\"linear_probe\", \"l-probe\").replace(\"simplebsl\", \"q-probe\"))\n",
    "    hue_order_intro = [\"clamp\",\"q-probe\", \"l-probe\", \"adkt\",  \"protonet\", \"simsearch\"]\n",
    "\n",
    "    \n",
    "    for i, task_name in enumerate(TASKS_ORDER):\n",
    "        sns.barplot(\n",
    "            data = df_this_plot[(df_this_plot.task_name == task_name)],\n",
    "            x=\"model\",\n",
    "            y=\"top-{}%\".format(top),\n",
    "            hue = \"model\",\n",
    "            ax=axes[i],\n",
    "            palette=cmap,\n",
    "            hue_order=hue_order_intro,\n",
    "            errorbar=(\"ci\", 90),\n",
    "            err_kws={\"color\": \".5\", \"linewidth\": .5},\n",
    "            capsize=.4,\n",
    "            legend=i==0,\n",
    "            order = hue_order_intro,\n",
    "            gap = 0.1\n",
    "        )\n",
    "        real_prop_active = df_this_plot[(df_this_plot.task_name == task_name)][\"top-100%\"].mean().round(4)*100\n",
    "    \n",
    "        axes[i].tick_params(bottom=False)\n",
    "        axes[i].set(xticklabels=[], xlabel=None)\n",
    "        #ylim to the max of the task\n",
    "\n",
    "        if i!=0:\n",
    "            axes[i]\n",
    "        if task_name == \"HIV\":\n",
    "            task_name_plot = task_name\n",
    "        else:\n",
    "            task_name_plot = \"\".join(task_name.replace(\"_\", \" _\").split(\"_\")[:-1]).replace(\"m1 muscarinic receptor\",\"Musc. rec.\").replace(\"t-type calcium \", \"\").replace(\"nists\",\".\")\n",
    "        axes[i].set_title(task_name_plot)\n",
    "        for item in axes[i].get_xticklabels():\n",
    "            item.set_rotation(45)\n",
    "        axes[i].set_ylim(0,df_this_plot[(df_this_plot.task_name == task_name)][\"top-{}%\".format(top)].max()*0.9)\n",
    "        axes[i].set_xlabel(\"\")\n",
    "        axes[i].set_ylabel(\"\")\n",
    "        axes[i].locator_params(axis='y', nbins=3)\n",
    "        axes[i].yaxis.set_major_formatter(FormatStrFormatter('%.0f'))\n",
    "    axes[0].legend(bbox_to_anchor=bbox_to_anchor, loc=2, borderaxespad=0., ncol=6, prop={'size': 12})\n",
    "    fig.supylabel(\"top {}% hitrate (%)\".format(top,))\n",
    "    fig.supxlabel(\"Few-shot models trained with {} datapoints\".format(size,))\n",
    "\n",
    "def plot_meanrank(ax):\n",
    "    df_ranks_this_plot = df_ranks_full[(df_ranks_full[\"top-%\"] <= 15) & (df_ranks_full.task_name.isin(TDC))]\n",
    "\n",
    "    SIZES = [16, 32, 64,128]\n",
    "    df_ranks_this_plot[\"task_name_plot\"] = df_ranks_this_plot.task_name.apply(lambda x: \"\".join(x.replace(\"receptor_\", \"\").replace(\"_\", \" _\").replace(\"nists\",\".\").split(\"_\")[:3] if \"muscarinic\" in x else x.replace(\"_\", \" _\").split(\"_\")[:2]))\n",
    "    df_ranks_this_plot.groupby([\"task_size\", \"model\"]).mean().reset_index().pivot_table(index=\"task_size\", columns=\"model\", values=\"rank\")\n",
    "    meanrank = df_ranks_this_plot.groupby([\"task_size\", \"model\", \"task_name_plot\"]).mean().reset_index()\n",
    "    \n",
    "    hue_order = [\"clamp\",\"q-probe\",\"l-probe\",  \"adkt\",  \"protonet\", \"simsearch\"]\n",
    "    sns.pointplot(data = meanrank, x=\"task_size\", y=\"rank\", hue = \"model\", ax=ax, palette=cmap, hue_order=hue_order, errorbar=(\"ci\", 90), alpha=0.1, capsize=.1, scale=.7, legend=False)\n",
    "    sns.pointplot(data = meanrank, x=\"task_size\", y=\"rank\", hue = \"model\", ax=ax, palette=cmap, hue_order=hue_order, errorbar=None, legend=False, alpha=0.2)\n",
    "    sns.pointplot(data = meanrank[meanrank.model.isin([\"q-probe\",\"l-probe\",])], x=\"task_size\", y=\"rank\", hue = \"model\", ax=ax, palette=cmap, hue_order=hue_order, errorbar=None, legend=False,)\n",
    "    sns.pointplot(data = meanrank[meanrank.model.isin([\"clamp\",])], x=\"task_size\", y=\"rank\", hue = \"model\", ax=ax, palette=cmap, hue_order=hue_order, errorbar=None, legend=False, alpha = 0.5)\n",
    "\n",
    "    # invert y scale\n",
    "    ax.invert_yaxis()\n",
    "    ax.set_ylim(5,2.2)\n",
    "    \n",
    "    ax.set_xlabel(\"Number of labelled points in the HTS task\")\n",
    "    ax.set_ylabel(\"Mean ranks of the models\")\n"
   ]
  },
  {
   "cell_type": "code",
   "execution_count": null,
   "metadata": {},
   "outputs": [],
   "source": [
    "\n",
    "FIGSIZE=11\n",
    "fig = plt.figure(figsize=(FIGSIZE, FIGSIZE/3.5))\n",
    "subfigs = fig.subfigures(1, 2, width_ratios=[1.7, 1])\n",
    "\n",
    "axsLeft = subfigs[0].subplots(2, 3)\n",
    "subfigs[0].subplots_adjust(wspace=0.5, hspace=0.3)\n",
    "plot_barplot_hitrate(axsLeft.flatten(), subfigs[0], bbox_to_anchor=(0.3,-1.8), top = 5, size=16)\n",
    "axsRight = subfigs[1].subplots(1, 1)\n",
    "plot_meanrank(axsRight)\n",
    "\n",
    "fig.savefig(PAPER_FIGDIR + \"/intro1.pdf\" ,bbox_inches='tight')"
   ]
  },
  {
   "cell_type": "code",
   "execution_count": null,
   "metadata": {
    "collapsed": false,
    "jupyter": {
     "outputs_hidden": false
    }
   },
   "outputs": [],
   "source": [
    "\n",
    "FIGSIZE=11\n",
    "fig = plt.figure(figsize=(FIGSIZE, FIGSIZE/3.5))\n",
    "subfigs = fig.subfigures(1, 2, width_ratios=[1.7, 1])\n",
    "\n",
    "axsLeft = subfigs[0].subplots(2, 3)\n",
    "subfigs[0].subplots_adjust(wspace=0.5, hspace=0.3)\n",
    "plot_barplot_hitrate(axsLeft.flatten(), subfigs[0], bbox_to_anchor=(0.3,-1.8), top = 5, size=32)\n",
    "axsRight = subfigs[1].subplots(1, 1)\n",
    "plot_meanrank(axsRight)\n",
    "\n",
    "fig.savefig(PAPER_FIGDIR + \"/intro2.pdf\" ,bbox_inches='tight')"
   ]
  },
  {
   "cell_type": "code",
   "execution_count": null,
   "metadata": {},
   "outputs": [],
   "source": [
    "%matplotlib inline\n",
    "#barplot rank\n",
    "SIZES = [16, 32, 64,128]\n",
    "\n",
    "\n",
    "FIGSIZE = 3.5\n",
    "\n",
    "def plot_ranking_topk_inv(df, ylim = (5.5,2.1), alpha = 0.3, dotsize = .2):\n",
    "    fig,axes = plt.subplots(2,2,figsize=(FIGSIZE,FIGSIZE,), sharex=True,sharey=True)\n",
    "    fig.subplots_adjust(hspace=0.3)\n",
    "    for i, size in enumerate([16,32,64,128]):\n",
    "        ax = axes[i//2,i%2]\n",
    "        df_ranks_this_plot = df[(df[\"task_size\"] == size)]\n",
    "        df_ranks_this_plot[\"task_name_plot\"] = df_ranks_this_plot.task_name.apply(lambda x: \"\".join(x.replace(\"receptor_\", \"\").replace(\"_\", \" _\").split(\"_\")[:3] if \"muscarinic\" in x else x.replace(\"_\", \" _\").split(\"_\")[:2]))\n",
    "        df_ranks_this_plot.groupby([\"task_size\", \"model\"]).mean().reset_index().pivot_table(index=\"task_size\", columns=\"model\", values=\"rank\")\n",
    "\n",
    "        meanrank = df_ranks_this_plot.groupby([\"top-%\", \"model\", \"task_name_plot\"]).mean().reset_index()\n",
    "        hue_order = [\"clamp\",\"q-probe\",\"l-probe\",  \"adkt\",  \"protonet\", \"simsearch\"]\n",
    "        sns.pointplot(\n",
    "            data = meanrank,\n",
    "            x=\"top-%\",\n",
    "            y=\"rank\",\n",
    "            hue = \"model\",\n",
    "            ax=ax,\n",
    "            palette=cmap,\n",
    "            hue_order=hue_order,\n",
    "            errorbar=None,\n",
    "            alpha=0.1,\n",
    "            capsize=.1,\n",
    "            scale=dotsize,\n",
    "            legend=False\n",
    "        )\n",
    "        sns.pointplot(\n",
    "            data = meanrank,\n",
    "          x=\"top-%\",\n",
    "          y=\"rank\",\n",
    "          hue = \"model\",\n",
    "          ax=ax,\n",
    "          palette=cmap,\n",
    "          hue_order=hue_order,\n",
    "          errorbar=None,\n",
    "            scale = dotsize,\n",
    "          alpha = alpha,\n",
    "            legend=False\n",
    "         )\n",
    "        sns.pointplot(\n",
    "            data = meanrank[meanrank.model==\"q-probe\"],\n",
    "          x=\"top-%\",\n",
    "          y=\"rank\",\n",
    "          hue = \"model\",\n",
    "          ax=ax,\n",
    "          palette=cmap,\n",
    "          hue_order=hue_order,\n",
    "          errorbar=None,\n",
    "            scale = dotsize,\n",
    "          alpha = 1\n",
    "         )\n",
    "        # invert y scale\n",
    "        ax.invert_yaxis()\n",
    "        ax.set_ylim(ylim[0], ylim[1])\n",
    "        if i == 3:\n",
    "            ax.legend(bbox_to_anchor=(0,-0.65), loc=\"center\", borderaxespad=0., ncol=3)\n",
    "        else:\n",
    "            ax.get_legend().remove()\n",
    "        if i//2 == 1:\n",
    "            ax.set_xlabel(\"top-k%\")\n",
    "        else:\n",
    "            ax.set_xlabel(\"\")\n",
    "        ax.set_ylabel(\"Mean rank\")\n",
    "        ax.set_title(\"|$\\mathcal{S}$| = \"+\"{}\".format(size))\n",
    "        # Only place 1 5 10 15 on the x axis\n",
    "        ax.set_xticks([0,4,9,14])\n",
    "        ax.grid()\n"
   ]
  },
  {
   "cell_type": "code",
   "execution_count": null,
   "metadata": {},
   "outputs": [],
   "source": [
    "plot_ranking_topk_inv(df_ranks_full[(df_ranks_full.task_name.isin(TDC))], dotsize=.4)\n",
    "plt.savefig(PAPER_FIGDIR + \"/hts_ranking_inv.pdf\", dpi=300, bbox_inches='tight')"
   ]
  },
  {
   "cell_type": "code",
   "execution_count": null,
   "metadata": {},
   "outputs": [],
   "source": [
    "plot_ranking_topk_inv(df_ranks_full[~(df_ranks_full.task_name.isin(TDC))], dotsize=.4)\n",
    "plt.savefig(PAPER_FIGDIR + \"/hts_ranking_inv_lit.pdf\", dpi=300, bbox_inches='tight')"
   ]
  },
  {
   "cell_type": "code",
   "execution_count": null,
   "metadata": {},
   "outputs": [],
   "source": [
    "plot_ranking_topk_inv(df_ranks_full, dotsize=.4, ylim=(4.9,2))\n",
    "plt.savefig(PAPER_FIGDIR + \"/hts_ranking_inv_full.pdf\", dpi=300, bbox_inches='tight')"
   ]
  }
 ],
 "metadata": {
  "kernelspec": {
   "display_name": "Python 3 (ipykernel)",
   "language": "python",
   "name": "python3"
  },
  "language_info": {
   "codemirror_mode": {
    "name": "ipython",
    "version": 3
   },
   "file_extension": ".py",
   "mimetype": "text/x-python",
   "name": "python",
   "nbconvert_exporter": "python",
   "pygments_lexer": "ipython3",
   "version": "3.10.13"
  }
 },
 "nbformat": 4,
 "nbformat_minor": 4
}
