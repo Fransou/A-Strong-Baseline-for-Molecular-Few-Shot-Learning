{
 "cells": [
  {
   "cell_type": "markdown",
   "source": [
    "# DTI"
   ],
   "metadata": {
    "collapsed": false
   }
  },
  {
   "cell_type": "code",
   "execution_count": null,
   "outputs": [],
   "source": [
    "from tdc.multi_pred import DTI\n",
    "import pandas as pd"
   ],
   "metadata": {
    "collapsed": false
   }
  },
  {
   "cell_type": "code",
   "execution_count": null,
   "outputs": [],
   "source": [
    "DATASET_NAME = 'BindingDB_Kd'\n",
    "\n",
    "data = DTI(name = DATASET_NAME)\n",
    "df = data.get_data()\n",
    "df.to_csv(\"data/DTI/{}.csv\".format(DATASET_NAME), index=False)"
   ],
   "metadata": {
    "collapsed": false
   }
  },
  {
   "cell_type": "markdown",
   "source": [
    "# HTS"
   ],
   "metadata": {
    "collapsed": false
   }
  },
  {
   "cell_type": "code",
   "execution_count": null,
   "outputs": [],
   "source": [
    "from tdc.single_pred import HTS\n",
    "import pandas as pd"
   ],
   "metadata": {
    "collapsed": false
   }
  },
  {
   "cell_type": "code",
   "execution_count": null,
   "outputs": [],
   "source": [
    "DATASET_NAME = \"HIV\"\n",
    "\n",
    "data = HTS(name = DATASET_NAME)\n",
    "df = data.get_data()\n",
    "df.to_csv(\"data/HTS/{}.csv\".format(DATASET_NAME), index=False)"
   ],
   "metadata": {
    "collapsed": false
   }
  }
 ],
 "metadata": {
  "kernelspec": {
   "display_name": "Python 3",
   "language": "python",
   "name": "python3"
  },
  "language_info": {
   "codemirror_mode": {
    "name": "ipython",
    "version": 2
   },
   "file_extension": ".py",
   "mimetype": "text/x-python",
   "name": "python",
   "nbconvert_exporter": "python",
   "pygments_lexer": "ipython2",
   "version": "2.7.6"
  }
 },
 "nbformat": 4,
 "nbformat_minor": 0
}
